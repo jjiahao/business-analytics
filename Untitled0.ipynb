{
  "nbformat": 4,
  "nbformat_minor": 0,
  "metadata": {
    "colab": {
      "name": "Untitled0.ipynb",
      "provenance": [],
      "authorship_tag": "ABX9TyNHwM2AtGP71ZT8Cjrmi7bO",
      "include_colab_link": true
    },
    "kernelspec": {
      "name": "python3",
      "display_name": "Python 3"
    }
  },
  "cells": [
    {
      "cell_type": "markdown",
      "metadata": {
        "id": "view-in-github",
        "colab_type": "text"
      },
      "source": [
        "<a href=\"https://colab.research.google.com/github/jjiahao/business-analytics/blob/master/Untitled0.ipynb\" target=\"_parent\"><img src=\"https://colab.research.google.com/assets/colab-badge.svg\" alt=\"Open In Colab\"/></a>"
      ]
    },
    {
      "cell_type": "markdown",
      "metadata": {
        "id": "v9WRRtv9eIKO",
        "colab_type": "text"
      },
      "source": [
        "#The grade breakdown is as follows:\n",
        "\n",
        "- A: 90-100\n",
        "- B: 80-89\n",
        "- C: 70 - 79\n",
        "- D: 65 - 69\n",
        "- Failing: Below 65\n",
        "\n",
        "#Given the list of grades in grades_list, print the grade received by the last student in this list. So if we have\n",
        "\n",
        "    grade_list = [50, 90, 91, 88, 75]\n",
        "\n",
        "#we want to print the grade received by the student who received a 75. In this case it would be a C.\n"
      ]
    },
    {
      "cell_type": "code",
      "metadata": {
        "id": "BBLOjdXZd4ax",
        "colab_type": "code",
        "colab": {
          "base_uri": "https://localhost:8080/",
          "height": 51
        },
        "outputId": "cdc08061-0e76-4bb0-caab-985c82518ba2"
      },
      "source": [
        "grade_list = [50, 90, 91, 88, 75]\n",
        "grade_last = grade_list[len(grade_list)-1]\n",
        "print(grade_last)\n",
        "if grade_last >= 90:\n",
        "  print(\"A\")\n",
        "elif grade_last >=80:\n",
        "  print(\"B\")\n",
        "elif grade_last >= 70:\n",
        "  print(\"C\")\n",
        "elif grade_last >= 65:\n",
        "  print(\"D\")\n",
        "else:\n",
        "   print(\"Failing\")"
      ],
      "execution_count": 1,
      "outputs": [
        {
          "output_type": "stream",
          "text": [
            "75\n",
            "C\n"
          ],
          "name": "stdout"
        }
      ]
    },
    {
      "cell_type": "markdown",
      "metadata": {
        "id": "2CrXWXxaeNuz",
        "colab_type": "text"
      },
      "source": [
        "# Create a list L of arbitrary length. Get the median.\n",
        "\n",
        "Examples: \n",
        "\n",
        "1.   [7, 1 , 5], return 5\n",
        "2.   [8,2, 0, 1] return (1+2)/2\n",
        "\n",
        "Hint: User L.sort()  "
      ]
    },
    {
      "cell_type": "code",
      "metadata": {
        "id": "DDHEljURePk0",
        "colab_type": "code",
        "colab": {}
      },
      "source": [
        "L = []\n",
        "L.sort()\n",
        "if len(L)%2 == true:\n",
        "  "
      ],
      "execution_count": null,
      "outputs": []
    },
    {
      "cell_type": "markdown",
      "metadata": {
        "id": "9rMgl2rGeTyp",
        "colab_type": "text"
      },
      "source": [
        "# Generate the first N numbers of the Fibonacci sequence where \n",
        "\n",
        "$a_0 = 1$\n",
        "\n",
        "$a_1=1$\n",
        "\n",
        "$a_n = a_{n-1} + a_{n-2}$\n",
        "\n",
        "# function : fibonacii(n) : returns $n^{th}$ fibonacii number. "
      ]
    },
    {
      "cell_type": "code",
      "metadata": {
        "id": "2f3zeZr-eWa7",
        "colab_type": "code",
        "colab": {}
      },
      "source": [
        ""
      ],
      "execution_count": null,
      "outputs": []
    },
    {
      "cell_type": "markdown",
      "metadata": {
        "id": "ZF8G-AnweZCA",
        "colab_type": "text"
      },
      "source": [
        "# Write a function to check if the x is perfect square.  If it is, print \"x is a perfect square\".  If not print \"x is not a perfect square\"."
      ]
    },
    {
      "cell_type": "code",
      "metadata": {
        "id": "TlcJAXrQebZZ",
        "colab_type": "code",
        "colab": {}
      },
      "source": [
        ""
      ],
      "execution_count": null,
      "outputs": []
    }
  ]
}