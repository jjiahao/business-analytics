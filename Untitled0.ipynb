{
  "nbformat": 4,
  "nbformat_minor": 0,
  "metadata": {
    "colab": {
      "name": "Untitled0.ipynb",
      "provenance": [],
      "collapsed_sections": [],
      "authorship_tag": "ABX9TyPgZ/60xWxBiJ2s1kWr8k5Q",
      "include_colab_link": true
    },
    "kernelspec": {
      "name": "python3",
      "display_name": "Python 3"
    }
  },
  "cells": [
    {
      "cell_type": "markdown",
      "metadata": {
        "id": "view-in-github",
        "colab_type": "text"
      },
      "source": [
        "<a href=\"https://colab.research.google.com/github/jjiahao/business-analytics/blob/master/Untitled0.ipynb\" target=\"_parent\"><img src=\"https://colab.research.google.com/assets/colab-badge.svg\" alt=\"Open In Colab\"/></a>"
      ]
    },
    {
      "cell_type": "markdown",
      "metadata": {
        "id": "v9WRRtv9eIKO",
        "colab_type": "text"
      },
      "source": [
        "#The grade breakdown is as follows:\n",
        "\n",
        "- A: 90-100\n",
        "- B: 80-89\n",
        "- C: 70 - 79\n",
        "- D: 65 - 69\n",
        "- Failing: Below 65\n",
        "\n",
        "#Given the list of grades in grades_list, print the grade received by the last student in this list. So if we have\n",
        "\n",
        "    grade_list = [50, 90, 91, 88, 75]\n",
        "\n",
        "#we want to print the grade received by the student who received a 75. In this case it would be a C.\n"
      ]
    },
    {
      "cell_type": "code",
      "metadata": {
        "id": "BBLOjdXZd4ax",
        "colab_type": "code",
        "colab": {
          "base_uri": "https://localhost:8080/",
          "height": 35
        },
        "outputId": "fcddc8d2-9c32-4a26-8f01-a9f5c18e0f7d"
      },
      "source": [
        "# function grade(L) return grade of last student\n",
        "def grade(L):\n",
        "  last_student_score = L[-1]\n",
        "  if last_student_score <= 65:\n",
        "    return \"F\"\n",
        "  elif last_student_score >=65 and last_student_score <= 69:\n",
        "    return \"D\"\n",
        "  elif last_student_score >= 70 and last_student_score <= 79:\n",
        "    return \"C\"\n",
        "  elif last_student_score  >= 80 and last_student_score <= 89:\n",
        "    return \"B\"\n",
        "  else:\n",
        "   return \"A\"\n",
        "grade([50, 90, 91, 88, 75])"
      ],
      "execution_count": 12,
      "outputs": [
        {
          "output_type": "execute_result",
          "data": {
            "application/vnd.google.colaboratory.intrinsic+json": {
              "type": "string"
            },
            "text/plain": [
              "'C'"
            ]
          },
          "metadata": {
            "tags": []
          },
          "execution_count": 12
        }
      ]
    },
    {
      "cell_type": "markdown",
      "metadata": {
        "id": "2CrXWXxaeNuz",
        "colab_type": "text"
      },
      "source": [
        "# Create a list L of arbitrary length. Get the median.\n",
        "\n",
        "Examples: \n",
        "\n",
        "1.   [7, 1 , 5], return 5\n",
        "2.   [8,2, 0, 1] return (1+2)/2\n",
        "\n",
        "Hint: User L.sort()  "
      ]
    },
    {
      "cell_type": "code",
      "metadata": {
        "id": "DDHEljURePk0",
        "colab_type": "code",
        "colab": {
          "base_uri": "https://localhost:8080/",
          "height": 34
        },
        "outputId": "83056864-4b2f-42c5-b5e2-70e9d4489098"
      },
      "source": [
        "# \n",
        "def median(L):\n",
        "  L.sort()\n",
        "  i = len(L)\n",
        "  if i % 2 == 0:\n",
        "    return (L[int(i/2)] + L[int(i/2-1)])/2\n",
        "  return L[int(i/2)]\n",
        "\n",
        "# median([7,1,5])\n",
        "\n",
        "median([8,2,0,1])\n",
        "  "
      ],
      "execution_count": 40,
      "outputs": [
        {
          "output_type": "execute_result",
          "data": {
            "text/plain": [
              "1.5"
            ]
          },
          "metadata": {
            "tags": []
          },
          "execution_count": 40
        }
      ]
    },
    {
      "cell_type": "markdown",
      "metadata": {
        "id": "9rMgl2rGeTyp",
        "colab_type": "text"
      },
      "source": [
        "# Generate the first N numbers of the Fibonacci sequence where \n",
        "\n",
        "$a_0 = 1$\n",
        "\n",
        "$a_1=1$\n",
        "\n",
        "$a_n = a_{n-1} + a_{n-2}$\n",
        "\n",
        "# function : fibonacii(n) : returns $n^{th}$ fibonacii number. "
      ]
    },
    {
      "cell_type": "code",
      "metadata": {
        "id": "2f3zeZr-eWa7",
        "colab_type": "code",
        "colab": {
          "base_uri": "https://localhost:8080/",
          "height": 34
        },
        "outputId": "e4ff7e4e-fb1e-4692-925f-00e1a8146014"
      },
      "source": [
        "# def fibonacii(n): return nth fibonacii\n",
        "def fibonacii_1(n):\n",
        "  if n <= 2:\n",
        "    return 1\n",
        "  else:\n",
        "    f = fibonacii_1(n-1) + fibonacii_1(n-2)\n",
        "  return f\n",
        "\n",
        "fibonacii_1(20)\n"
      ],
      "execution_count": 5,
      "outputs": [
        {
          "output_type": "execute_result",
          "data": {
            "text/plain": [
              "6765"
            ]
          },
          "metadata": {
            "tags": []
          },
          "execution_count": 5
        }
      ]
    },
    {
      "cell_type": "code",
      "metadata": {
        "id": "f6ZcDLurlONY",
        "colab_type": "code",
        "colab": {
          "base_uri": "https://localhost:8080/",
          "height": 34
        },
        "outputId": "d4caa5bf-da7b-44ae-9f3f-2b659b986558"
      },
      "source": [
        "# def fibonacii(n): return nth fibonacii\n",
        "# [1]*n\n",
        "def fibonacii_2(n):\n",
        "  f = [1]*n\n",
        "  for i in range(2,n):\n",
        "    f[i] = f[i-1] + f[i-2]\n",
        "  return f[n-1]\n",
        "\n",
        "fibonacii_2(100)\n"
      ],
      "execution_count": 33,
      "outputs": [
        {
          "output_type": "execute_result",
          "data": {
            "text/plain": [
              "354224848179261915075"
            ]
          },
          "metadata": {
            "tags": []
          },
          "execution_count": 33
        }
      ]
    },
    {
      "cell_type": "markdown",
      "metadata": {
        "id": "ZF8G-AnweZCA",
        "colab_type": "text"
      },
      "source": [
        "# Write a function to check if the x is perfect square.  If it is, print \"x is a perfect square\".  If not print \"x is not a perfect square\"."
      ]
    },
    {
      "cell_type": "code",
      "metadata": {
        "id": "TlcJAXrQebZZ",
        "colab_type": "code",
        "colab": {
          "base_uri": "https://localhost:8080/",
          "height": 35
        },
        "outputId": "6d4c7307-a51a-4051-adca-e1e547bbf149"
      },
      "source": [
        "def perfect_square_01(x):\n",
        "  for i in range(0, int(x**(0.5) +1)):\n",
        "    if i**2 == x:\n",
        "      return \"x is a perfect square\"\n",
        "    return \"x is not a perfect square\"\n",
        "\n",
        "\n",
        "perfect_square_01(213498)"
      ],
      "execution_count": 21,
      "outputs": [
        {
          "output_type": "execute_result",
          "data": {
            "application/vnd.google.colaboratory.intrinsic+json": {
              "type": "string"
            },
            "text/plain": [
              "'x is not a perfect square'"
            ]
          },
          "metadata": {
            "tags": []
          },
          "execution_count": 21
        }
      ]
    },
    {
      "cell_type": "code",
      "metadata": {
        "id": "BFNX9D-Cqjgi",
        "colab_type": "code",
        "colab": {
          "base_uri": "https://localhost:8080/",
          "height": 35
        },
        "outputId": "97db171e-d353-46c9-ce02-624f5effab3b"
      },
      "source": [
        "def perfect_square_02(x):\n",
        "  i = int(x**(0.5))\n",
        "  if i**2 == x:\n",
        "    return \"x is a perfect square\"\n",
        "  return \"x is not a perfect square\"\n",
        "\n",
        "perfect_square_02(345134)\n"
      ],
      "execution_count": 17,
      "outputs": [
        {
          "output_type": "execute_result",
          "data": {
            "application/vnd.google.colaboratory.intrinsic+json": {
              "type": "string"
            },
            "text/plain": [
              "'x is not a perfect square'"
            ]
          },
          "metadata": {
            "tags": []
          },
          "execution_count": 17
        }
      ]
    }
  ]
}