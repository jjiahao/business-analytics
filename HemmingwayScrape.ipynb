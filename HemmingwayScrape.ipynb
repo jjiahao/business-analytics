{
  "nbformat": 4,
  "nbformat_minor": 0,
  "metadata": {
    "colab": {
      "name": "Untitled5.ipynb",
      "provenance": [],
      "collapsed_sections": [],
      "authorship_tag": "ABX9TyMGusYPeIpbELU9jZIIiiZh",
      "include_colab_link": true
    },
    "kernelspec": {
      "name": "python3",
      "display_name": "Python 3"
    }
  },
  "cells": [
    {
      "cell_type": "markdown",
      "metadata": {
        "id": "view-in-github",
        "colab_type": "text"
      },
      "source": [
        "<a href=\"https://colab.research.google.com/github/jjiahao/business-analytics/blob/master/HemmingwayScrape.ipynb\" target=\"_parent\"><img src=\"https://colab.research.google.com/assets/colab-badge.svg\" alt=\"Open In Colab\"/></a>"
      ]
    },
    {
      "cell_type": "markdown",
      "metadata": {
        "id": "M65W75TmU5v8",
        "colab_type": "text"
      },
      "source": [
        "The Sun Also Rises (1926) http://gutenberg.ca/ebooks/hemingwaye-sunalsorises/hemingwaye-sunalsorises-00-h.html\n",
        "\n",
        "Men Without Women (1927) http://gutenberg.ca/ebooks/hemingwaye-menwithoutwomen/hemingwaye-menwithoutwomen-00-h.html\n",
        "\n",
        "Winner Take Nothing (1933) http://gutenberg.ca/ebooks/hemingwaye-winnertakenothing/hemingwaye-winnertakenothing-00-h.html\n",
        "\n",
        "Green Hills of Africa (1935) http://gutenberg.ca/ebooks/hemingwaye-greenhillsofafrica/hemingwaye-greenhillsofafrica-00-h.html\n",
        "\n",
        "Across the River and Into the Trees (1950) http://gutenberg.ca/ebooks/hemingwaye-acrosstheriver/hemingwaye-acrosstheriver-00-h.html\n",
        "\n",
        "The Old Man and the Sea (1952) http://gutenberg.ca/ebooks/hemingwaye-oldmanandthesea/hemingwaye-oldmanandthesea-00-h.html"
      ]
    },
    {
      "cell_type": "code",
      "metadata": {
        "id": "Le-bfxV7faTw",
        "colab_type": "code",
        "colab": {
          "base_uri": "https://localhost:8080/",
          "height": 68
        },
        "outputId": "03016d1d-2b86-49a1-ab7d-77d23cff9157"
      },
      "source": [
        "import nltk\n",
        "nltk.download('stopwords')"
      ],
      "execution_count": 2,
      "outputs": [
        {
          "output_type": "stream",
          "text": [
            "[nltk_data] Downloading package stopwords to /root/nltk_data...\n",
            "[nltk_data]   Unzipping corpora/stopwords.zip.\n"
          ],
          "name": "stdout"
        },
        {
          "output_type": "execute_result",
          "data": {
            "text/plain": [
              "True"
            ]
          },
          "metadata": {
            "tags": []
          },
          "execution_count": 2
        }
      ]
    },
    {
      "cell_type": "code",
      "metadata": {
        "id": "BJrJIXboU4Ee",
        "colab_type": "code",
        "colab": {
          "base_uri": "https://localhost:8080/",
          "height": 156
        },
        "outputId": "ee595a2a-d642-4ea9-f47f-276818af3424"
      },
      "source": [
        "# Web Scraping\n",
        "import requests\n",
        "from bs4 import BeautifulSoup\n",
        "\n",
        "# Preprocess\n",
        "import spacy\n",
        "import string\n",
        "import nltk\n",
        "from nltk.tokenize import word_tokenize\n",
        "from nltk.corpus import stopwords\n",
        "from nltk.stem import PorterStemmer\n",
        "nltk.download('punkt')\n",
        "stop_words = set(stopwords.words('english')) \n",
        "nltk.download('vader_lexicon')\n",
        "from nltk.sentiment.vader import SentimentIntensityAnalyzer\n",
        "\n",
        "import pandas as pd\n",
        "\n",
        "# EDA\n",
        "from sklearn.feature_extraction.text import CountVectorizer, TfidfVectorizer, TfidfTransformer\n",
        "from sklearn.cluster import MiniBatchKMeans, KMeans\n",
        "from sklearn.decomposition import PCA\n",
        "from sklearn.metrics import homogeneity_score\n",
        "from sklearn.metrics import silhouette_score\n",
        "\n",
        "# Viz\n",
        "import matplotlib.pyplot as plt\n",
        "import seaborn as sns"
      ],
      "execution_count": 3,
      "outputs": [
        {
          "output_type": "stream",
          "text": [
            "[nltk_data] Downloading package punkt to /root/nltk_data...\n",
            "[nltk_data]   Package punkt is already up-to-date!\n",
            "[nltk_data] Downloading package vader_lexicon to /root/nltk_data...\n"
          ],
          "name": "stdout"
        },
        {
          "output_type": "stream",
          "text": [
            "/usr/local/lib/python3.6/dist-packages/nltk/twitter/__init__.py:20: UserWarning: The twython library has not been installed. Some functionality from the twitter package will not be available.\n",
            "  warnings.warn(\"The twython library has not been installed. \"\n",
            "/usr/local/lib/python3.6/dist-packages/statsmodels/tools/_testing.py:19: FutureWarning: pandas.util.testing is deprecated. Use the functions in the public API at pandas.testing instead.\n",
            "  import pandas.util.testing as tm\n"
          ],
          "name": "stderr"
        }
      ]
    },
    {
      "cell_type": "markdown",
      "metadata": {
        "id": "VoXNMFOeVDeW",
        "colab_type": "text"
      },
      "source": [
        "## Web Scraping using BeautifulSoup"
      ]
    },
    {
      "cell_type": "code",
      "metadata": {
        "id": "b6Qc8XbYVATm",
        "colab_type": "code",
        "colab": {
          "base_uri": "https://localhost:8080/",
          "height": 289
        },
        "outputId": "c4bff4e7-ab50-489a-8353-a98dfde6b680"
      },
      "source": [
        "url = 'http://gutenberg.ca/ebooks/hemingwaye-sunalsorises/hemingwaye-sunalsorises-00-h.html'\n",
        "res = requests.get(url)\n",
        "html_page = res.content\n",
        "\n",
        "soup = BeautifulSoup(html_page, 'html.parser')\n",
        "\n",
        "text = soup.find_all(text=True)\n",
        "\n",
        "set([t.parent.name for t in text])"
      ],
      "execution_count": 4,
      "outputs": [
        {
          "output_type": "execute_result",
          "data": {
            "text/plain": [
              "{'[document]',\n",
              " 'a',\n",
              " 'b',\n",
              " 'blockquote',\n",
              " 'body',\n",
              " 'div',\n",
              " 'h1',\n",
              " 'h2',\n",
              " 'h3',\n",
              " 'h4',\n",
              " 'head',\n",
              " 'html',\n",
              " 'i',\n",
              " 'p',\n",
              " 'small',\n",
              " 'title'}"
            ]
          },
          "metadata": {
            "tags": []
          },
          "execution_count": 4
        }
      ]
    },
    {
      "cell_type": "code",
      "metadata": {
        "id": "Nfm8O1d8VKJG",
        "colab_type": "code",
        "colab": {}
      },
      "source": [
        "\n",
        "output = ''\n",
        "for t in text:\n",
        "    if t.parent.name in ['p']:\n",
        "        output += '{} '.format(t)\n",
        "#output"
      ],
      "execution_count": 6,
      "outputs": []
    },
    {
      "cell_type": "code",
      "metadata": {
        "id": "tCF0_3-HVM11",
        "colab_type": "code",
        "colab": {}
      },
      "source": [
        "def Web_Scraping(url):\n",
        "    res = requests.get(url)\n",
        "    html_page = res.content\n",
        "    soup = BeautifulSoup(html_page, 'html.parser')\n",
        "    text = soup.find_all(text=True)\n",
        "    output = ''\n",
        "    for t in text:\n",
        "        if t.parent.name in ['p']:\n",
        "            output += '{} '.format(t)\n",
        "    output = output.strip().replace(\"\\n\", \" \").replace(\"\\r\", \" \").replace(\"\\r\\n\", \" \").replace(\"  \", \" \")\n",
        "    return output"
      ],
      "execution_count": 7,
      "outputs": []
    },
    {
      "cell_type": "code",
      "metadata": {
        "id": "rZeuqwkaVOyl",
        "colab_type": "code",
        "colab": {}
      },
      "source": [
        "url_1 = \"http://gutenberg.ca/ebooks/hemingwaye-sunalsorises/hemingwaye-sunalsorises-00-h.html\"\n",
        "book_1 = Web_Scraping(url_1)\n",
        "url_2 = \"http://gutenberg.ca/ebooks/hemingwaye-menwithoutwomen/hemingwaye-menwithoutwomen-00-h.html\"\n",
        "book_2 = Web_Scraping(url_2)\n",
        "url_3 = \"http://gutenberg.ca/ebooks/hemingwaye-winnertakenothing/hemingwaye-winnertakenothing-00-h.html\"\n",
        "book_3 = Web_Scraping(url_3)\n",
        "url_4 = \"http://gutenberg.ca/ebooks/hemingwaye-greenhillsofafrica/hemingwaye-greenhillsofafrica-00-h.html\"\n",
        "book_4 = Web_Scraping(url_4)\n",
        "url_5 = \"http://gutenberg.ca/ebooks/hemingwaye-acrosstheriver/hemingwaye-acrosstheriver-00-h.html\"\n",
        "book_5 = Web_Scraping(url_5)\n",
        "url_6 = \"http://gutenberg.ca/ebooks/hemingwaye-oldmanandthesea/hemingwaye-oldmanandthesea-00-h.html\"\n",
        "book_6 = Web_Scraping(url_6)"
      ],
      "execution_count": 8,
      "outputs": []
    },
    {
      "cell_type": "markdown",
      "metadata": {
        "id": "HsUT5fH6VH_6",
        "colab_type": "text"
      },
      "source": [
        "# **Text Processing**"
      ]
    },
    {
      "cell_type": "markdown",
      "metadata": {
        "id": "H3RDBzZhVUHY",
        "colab_type": "text"
      },
      "source": [
        "## **Ideas**"
      ]
    },
    {
      "cell_type": "markdown",
      "metadata": {
        "id": "YVym0ZEFVXOn",
        "colab_type": "text"
      },
      "source": [
        "*   Number of distinct words (vocabulary)\n",
        "\n",
        "*   Lexical diversity = vocabulary/token ratio\n",
        "*   Distribution of word lengths\n",
        "*   Most frequent words\n",
        "*   Number of n-gram word (bigrams, trigrams, 4-grams, etc.)\n",
        "*   Usage of passive and active voice\n",
        "*   Usage of parts of speech (nouns, verb, adverbs, adjectives, etc.)\n",
        "*   Sentiment (positive, negative)"
      ]
    },
    {
      "cell_type": "markdown",
      "metadata": {
        "id": "Ui31NVN8VaUB",
        "colab_type": "text"
      },
      "source": [
        "##  **Book Level**"
      ]
    },
    {
      "cell_type": "code",
      "metadata": {
        "id": "MbTcT4K7VrpS",
        "colab_type": "code",
        "colab": {
          "base_uri": "https://localhost:8080/",
          "height": 235
        },
        "outputId": "2746d8c0-d0d8-43f2-db68-3a656022ad58"
      },
      "source": [
        "all_books = {'book': ['book_1','book_2','book_3','book_4','book_5', 'book_6'],\n",
        "             'text': [book_1, book_2, book_3, book_4, book_5, book_6]}\n",
        "\n",
        "all_books = pd.DataFrame(all_books, columns = ['book', 'text'])\n",
        "all_books"
      ],
      "execution_count": 9,
      "outputs": [
        {
          "output_type": "execute_result",
          "data": {
            "text/html": [
              "<div>\n",
              "<style scoped>\n",
              "    .dataframe tbody tr th:only-of-type {\n",
              "        vertical-align: middle;\n",
              "    }\n",
              "\n",
              "    .dataframe tbody tr th {\n",
              "        vertical-align: top;\n",
              "    }\n",
              "\n",
              "    .dataframe thead th {\n",
              "        text-align: right;\n",
              "    }\n",
              "</style>\n",
              "<table border=\"1\" class=\"dataframe\">\n",
              "  <thead>\n",
              "    <tr style=\"text-align: right;\">\n",
              "      <th></th>\n",
              "      <th>book</th>\n",
              "      <th>text</th>\n",
              "    </tr>\n",
              "  </thead>\n",
              "  <tbody>\n",
              "    <tr>\n",
              "      <th>0</th>\n",
              "      <td>book_1</td>\n",
              "      <td>Robert Cohn was once middleweight boxing champ...</td>\n",
              "    </tr>\n",
              "    <tr>\n",
              "      <th>1</th>\n",
              "      <td>book_2</td>\n",
              "      <td>Manuel Garcia climbed the stairs to Don Miguel...</td>\n",
              "    </tr>\n",
              "    <tr>\n",
              "      <th>2</th>\n",
              "      <td>book_3</td>\n",
              "      <td>It wasn't about anything, something about maki...</td>\n",
              "    </tr>\n",
              "    <tr>\n",
              "      <th>3</th>\n",
              "      <td>book_4</td>\n",
              "      <td>IN OUR TIME FIESTA MEN WITHOUT WOMEN A FAREWEL...</td>\n",
              "    </tr>\n",
              "    <tr>\n",
              "      <th>4</th>\n",
              "      <td>book_5</td>\n",
              "      <td>ERNEST HEMINGWAY     READERS UNION — JONATHAN ...</td>\n",
              "    </tr>\n",
              "    <tr>\n",
              "      <th>5</th>\n",
              "      <td>book_6</td>\n",
              "      <td>ERNEST HEMINGWAY   CHARLES SCRIBNER'S SONS, NE...</td>\n",
              "    </tr>\n",
              "  </tbody>\n",
              "</table>\n",
              "</div>"
            ],
            "text/plain": [
              "     book                                               text\n",
              "0  book_1  Robert Cohn was once middleweight boxing champ...\n",
              "1  book_2  Manuel Garcia climbed the stairs to Don Miguel...\n",
              "2  book_3  It wasn't about anything, something about maki...\n",
              "3  book_4  IN OUR TIME FIESTA MEN WITHOUT WOMEN A FAREWEL...\n",
              "4  book_5  ERNEST HEMINGWAY     READERS UNION — JONATHAN ...\n",
              "5  book_6  ERNEST HEMINGWAY   CHARLES SCRIBNER'S SONS, NE..."
            ]
          },
          "metadata": {
            "tags": []
          },
          "execution_count": 9
        }
      ]
    },
    {
      "cell_type": "code",
      "metadata": {
        "id": "b0oIRSAeVw6l",
        "colab_type": "code",
        "colab": {}
      },
      "source": [
        "# Counting Vocabulary\n",
        "all_books['token'] = all_books['text'].apply(word_tokenize)\\\n",
        ".apply(lambda x: [item for item in x if item.isalpha()])\n",
        "\n",
        "all_books['token count'] = all_books['token'].apply(len)\n",
        "all_books['vocab count'] = all_books['token'].apply(set).apply(len)\n",
        "all_books['lexical_diversity'] = all_books['vocab count']/all_books['token count']"
      ],
      "execution_count": 38,
      "outputs": []
    },
    {
      "cell_type": "code",
      "metadata": {
        "id": "ZyTSDGygVzsq",
        "colab_type": "code",
        "colab": {
          "base_uri": "https://localhost:8080/",
          "height": 354
        },
        "outputId": "3872502d-8c70-45aa-91f2-bc7a1dc3a13f"
      },
      "source": [
        "sid = SentimentIntensityAnalyzer()\n",
        "all_books['scores sentiment'] = all_books['text'].apply(lambda x: sid.polarity_scores(x))\n",
        "all_books"
      ],
      "execution_count": 39,
      "outputs": [
        {
          "output_type": "execute_result",
          "data": {
            "text/html": [
              "<div>\n",
              "<style scoped>\n",
              "    .dataframe tbody tr th:only-of-type {\n",
              "        vertical-align: middle;\n",
              "    }\n",
              "\n",
              "    .dataframe tbody tr th {\n",
              "        vertical-align: top;\n",
              "    }\n",
              "\n",
              "    .dataframe thead th {\n",
              "        text-align: right;\n",
              "    }\n",
              "</style>\n",
              "<table border=\"1\" class=\"dataframe\">\n",
              "  <thead>\n",
              "    <tr style=\"text-align: right;\">\n",
              "      <th></th>\n",
              "      <th>book</th>\n",
              "      <th>text</th>\n",
              "      <th>token</th>\n",
              "      <th>token count</th>\n",
              "      <th>vocab count</th>\n",
              "      <th>lexical_diversity</th>\n",
              "      <th>scores sentiment</th>\n",
              "    </tr>\n",
              "  </thead>\n",
              "  <tbody>\n",
              "    <tr>\n",
              "      <th>0</th>\n",
              "      <td>book_1</td>\n",
              "      <td>Robert Cohn was once middleweight boxing champ...</td>\n",
              "      <td>[Robert, Cohn, was, once, middleweight, boxing...</td>\n",
              "      <td>66648</td>\n",
              "      <td>4990</td>\n",
              "      <td>0.074871</td>\n",
              "      <td>{'neg': 0.06, 'neu': 0.835, 'pos': 0.105, 'com...</td>\n",
              "    </tr>\n",
              "    <tr>\n",
              "      <th>1</th>\n",
              "      <td>book_2</td>\n",
              "      <td>Manuel Garcia climbed the stairs to Don Miguel...</td>\n",
              "      <td>[Manuel, Garcia, climbed, the, stairs, to, Don...</td>\n",
              "      <td>40023</td>\n",
              "      <td>3532</td>\n",
              "      <td>0.088249</td>\n",
              "      <td>{'neg': 0.058, 'neu': 0.858, 'pos': 0.084, 'co...</td>\n",
              "    </tr>\n",
              "    <tr>\n",
              "      <th>2</th>\n",
              "      <td>book_3</td>\n",
              "      <td>It wasn't about anything, something about maki...</td>\n",
              "      <td>[It, was, about, anything, something, about, m...</td>\n",
              "      <td>38206</td>\n",
              "      <td>4149</td>\n",
              "      <td>0.108596</td>\n",
              "      <td>{'neg': 0.089, 'neu': 0.823, 'pos': 0.088, 'co...</td>\n",
              "    </tr>\n",
              "    <tr>\n",
              "      <th>3</th>\n",
              "      <td>book_4</td>\n",
              "      <td>IN OUR TIME FIESTA MEN WITHOUT WOMEN A FAREWEL...</td>\n",
              "      <td>[IN, OUR, TIME, FIESTA, MEN, WITHOUT, WOMEN, A...</td>\n",
              "      <td>67260</td>\n",
              "      <td>5216</td>\n",
              "      <td>0.077550</td>\n",
              "      <td>{'neg': 0.085, 'neu': 0.816, 'pos': 0.098, 'co...</td>\n",
              "    </tr>\n",
              "    <tr>\n",
              "      <th>4</th>\n",
              "      <td>book_5</td>\n",
              "      <td>ERNEST HEMINGWAY     READERS UNION — JONATHAN ...</td>\n",
              "      <td>[ERNEST, HEMINGWAY, READERS, UNION, JONATHAN, ...</td>\n",
              "      <td>63670</td>\n",
              "      <td>5770</td>\n",
              "      <td>0.090624</td>\n",
              "      <td>{'neg': 0.08, 'neu': 0.782, 'pos': 0.138, 'com...</td>\n",
              "    </tr>\n",
              "    <tr>\n",
              "      <th>5</th>\n",
              "      <td>book_6</td>\n",
              "      <td>ERNEST HEMINGWAY   CHARLES SCRIBNER'S SONS, NE...</td>\n",
              "      <td>[ERNEST, HEMINGWAY, CHARLES, SCRIBNER, SONS, N...</td>\n",
              "      <td>26561</td>\n",
              "      <td>2634</td>\n",
              "      <td>0.099168</td>\n",
              "      <td>{'neg': 0.07, 'neu': 0.82, 'pos': 0.111, 'comp...</td>\n",
              "    </tr>\n",
              "  </tbody>\n",
              "</table>\n",
              "</div>"
            ],
            "text/plain": [
              "     book  ...                                   scores sentiment\n",
              "0  book_1  ...  {'neg': 0.06, 'neu': 0.835, 'pos': 0.105, 'com...\n",
              "1  book_2  ...  {'neg': 0.058, 'neu': 0.858, 'pos': 0.084, 'co...\n",
              "2  book_3  ...  {'neg': 0.089, 'neu': 0.823, 'pos': 0.088, 'co...\n",
              "3  book_4  ...  {'neg': 0.085, 'neu': 0.816, 'pos': 0.098, 'co...\n",
              "4  book_5  ...  {'neg': 0.08, 'neu': 0.782, 'pos': 0.138, 'com...\n",
              "5  book_6  ...  {'neg': 0.07, 'neu': 0.82, 'pos': 0.111, 'comp...\n",
              "\n",
              "[6 rows x 7 columns]"
            ]
          },
          "metadata": {
            "tags": []
          },
          "execution_count": 39
        }
      ]
    },
    {
      "cell_type": "markdown",
      "metadata": {
        "id": "EFYGylsrVu57",
        "colab_type": "text"
      },
      "source": [
        "## Sentence Level"
      ]
    },
    {
      "cell_type": "code",
      "metadata": {
        "id": "TXb8lgyEV5FA",
        "colab_type": "code",
        "colab": {}
      },
      "source": [
        "def get_sents(book):\n",
        "    nlp = spacy.load(\"en_core_web_sm\")\n",
        "    doc = nlp(book)\n",
        "    sent_list = []\n",
        "    for sent in doc.sents:\n",
        "        sent_list.append(sent.text)\n",
        "    return sent_list"
      ],
      "execution_count": 40,
      "outputs": []
    },
    {
      "cell_type": "code",
      "metadata": {
        "id": "5IRwwGuwV8Yt",
        "colab_type": "code",
        "colab": {
          "base_uri": "https://localhost:8080/",
          "height": 34
        },
        "outputId": "89e5f7be-feb6-49d0-8817-90e80a0384a0"
      },
      "source": [
        "sents_1 = get_sents(book_1)\n",
        "df_1 = {'sentence': sents_1,\n",
        "        'book': 'Book_1'}\n",
        "df_1 = pd.DataFrame(df_1, columns = ['sentence', 'book'])\n",
        "len(sents_1)"
      ],
      "execution_count": 41,
      "outputs": [
        {
          "output_type": "execute_result",
          "data": {
            "text/plain": [
              "9333"
            ]
          },
          "metadata": {
            "tags": []
          },
          "execution_count": 41
        }
      ]
    },
    {
      "cell_type": "code",
      "metadata": {
        "id": "fPJML_foV-Pz",
        "colab_type": "code",
        "colab": {
          "base_uri": "https://localhost:8080/",
          "height": 34
        },
        "outputId": "ede87a58-34d7-4e22-fc74-7aea84075bdd"
      },
      "source": [
        "sents_2 = get_sents(book_2)\n",
        "df_2 = {'sentence': sents_2,\n",
        "        'book': 'Book_2'}\n",
        "df_2 = pd.DataFrame(df_2, columns = ['sentence', 'book'])\n",
        "len(sents_2)"
      ],
      "execution_count": 42,
      "outputs": [
        {
          "output_type": "execute_result",
          "data": {
            "text/plain": [
              "5117"
            ]
          },
          "metadata": {
            "tags": []
          },
          "execution_count": 42
        }
      ]
    },
    {
      "cell_type": "code",
      "metadata": {
        "id": "PaFBFZg2WA0y",
        "colab_type": "code",
        "colab": {
          "base_uri": "https://localhost:8080/",
          "height": 34
        },
        "outputId": "c93229cd-fd39-415d-8b57-3e7338315eac"
      },
      "source": [
        "sents_3 = get_sents(book_3)\n",
        "df_3 = {'sentence': sents_3,\n",
        "        'book': 'Book_3'}\n",
        "df_3 = pd.DataFrame(df_3, columns = ['sentence', 'book'])\n",
        "len(sents_3)"
      ],
      "execution_count": 43,
      "outputs": [
        {
          "output_type": "execute_result",
          "data": {
            "text/plain": [
              "4866"
            ]
          },
          "metadata": {
            "tags": []
          },
          "execution_count": 43
        }
      ]
    },
    {
      "cell_type": "code",
      "metadata": {
        "id": "1ln0cjPsWCl6",
        "colab_type": "code",
        "colab": {
          "base_uri": "https://localhost:8080/",
          "height": 34
        },
        "outputId": "1e85d4c5-6614-4e97-ccaa-7a11f58cf303"
      },
      "source": [
        "sents_4 = get_sents(book_4)\n",
        "df_4 = {'sentence': sents_4,\n",
        "        'book': 'Book_4'}\n",
        "df_4 = pd.DataFrame(df_4, columns = ['sentence', 'book'])\n",
        "len(sents_4)"
      ],
      "execution_count": 44,
      "outputs": [
        {
          "output_type": "execute_result",
          "data": {
            "text/plain": [
              "5763"
            ]
          },
          "metadata": {
            "tags": []
          },
          "execution_count": 44
        }
      ]
    },
    {
      "cell_type": "code",
      "metadata": {
        "id": "WjrRa25OWEsA",
        "colab_type": "code",
        "colab": {
          "base_uri": "https://localhost:8080/",
          "height": 34
        },
        "outputId": "077e2f6e-1b25-427d-f5bb-1b76736ecce4"
      },
      "source": [
        "sents_5 = get_sents(book_5)\n",
        "df_5 = {'sentence': sents_5,\n",
        "        'book': 'Book_5'}\n",
        "df_5 = pd.DataFrame(df_5, columns = ['sentence', 'book'])\n",
        "len(sents_5)"
      ],
      "execution_count": 45,
      "outputs": [
        {
          "output_type": "execute_result",
          "data": {
            "text/plain": [
              "6921"
            ]
          },
          "metadata": {
            "tags": []
          },
          "execution_count": 45
        }
      ]
    },
    {
      "cell_type": "code",
      "metadata": {
        "id": "3x-FoCLTWGwf",
        "colab_type": "code",
        "colab": {
          "base_uri": "https://localhost:8080/",
          "height": 34
        },
        "outputId": "cd5aa00c-8d9c-401b-f810-865d55b91717"
      },
      "source": [
        "sents_6 = get_sents(book_6)\n",
        "df_6 = {'sentence': sents_6,\n",
        "        'book': 'Book_6'}\n",
        "df_6 = pd.DataFrame(df_6, columns = ['sentence', 'book'])\n",
        "len(sents_6)"
      ],
      "execution_count": 46,
      "outputs": [
        {
          "output_type": "execute_result",
          "data": {
            "text/plain": [
              "2195"
            ]
          },
          "metadata": {
            "tags": []
          },
          "execution_count": 46
        }
      ]
    },
    {
      "cell_type": "code",
      "metadata": {
        "id": "GKorwLrDWI3K",
        "colab_type": "code",
        "colab": {
          "base_uri": "https://localhost:8080/",
          "height": 359
        },
        "outputId": "47d271ca-61fd-4ef6-b802-9ad2f81a33e7"
      },
      "source": [
        "df_all = pd.concat([df_1, df_2, df_3, df_4, df_5, df_6]).reset_index(drop=True)\n",
        "df_all.head(10)"
      ],
      "execution_count": 47,
      "outputs": [
        {
          "output_type": "execute_result",
          "data": {
            "text/html": [
              "<div>\n",
              "<style scoped>\n",
              "    .dataframe tbody tr th:only-of-type {\n",
              "        vertical-align: middle;\n",
              "    }\n",
              "\n",
              "    .dataframe tbody tr th {\n",
              "        vertical-align: top;\n",
              "    }\n",
              "\n",
              "    .dataframe thead th {\n",
              "        text-align: right;\n",
              "    }\n",
              "</style>\n",
              "<table border=\"1\" class=\"dataframe\">\n",
              "  <thead>\n",
              "    <tr style=\"text-align: right;\">\n",
              "      <th></th>\n",
              "      <th>sentence</th>\n",
              "      <th>book</th>\n",
              "    </tr>\n",
              "  </thead>\n",
              "  <tbody>\n",
              "    <tr>\n",
              "      <th>0</th>\n",
              "      <td>Robert Cohn was once middleweight boxing champ...</td>\n",
              "      <td>Book_1</td>\n",
              "    </tr>\n",
              "    <tr>\n",
              "      <th>1</th>\n",
              "      <td>Do not think that I am very much impressed by ...</td>\n",
              "      <td>Book_1</td>\n",
              "    </tr>\n",
              "    <tr>\n",
              "      <th>2</th>\n",
              "      <td>He cared nothing for boxing, in fact he dislik...</td>\n",
              "      <td>Book_1</td>\n",
              "    </tr>\n",
              "    <tr>\n",
              "      <th>3</th>\n",
              "      <td>There was a certain inner comfort in knowing h...</td>\n",
              "      <td>Book_1</td>\n",
              "    </tr>\n",
              "    <tr>\n",
              "      <th>4</th>\n",
              "      <td>a thoroughly nice boy</td>\n",
              "      <td>Book_1</td>\n",
              "    </tr>\n",
              "    <tr>\n",
              "      <th>5</th>\n",
              "      <td>, he never fought except in the gym.</td>\n",
              "      <td>Book_1</td>\n",
              "    </tr>\n",
              "    <tr>\n",
              "      <th>6</th>\n",
              "      <td>He was Spider Kelly's star pupil.</td>\n",
              "      <td>Book_1</td>\n",
              "    </tr>\n",
              "    <tr>\n",
              "      <th>7</th>\n",
              "      <td>Spider Kelly taught all his young gentlemen to...</td>\n",
              "      <td>Book_1</td>\n",
              "    </tr>\n",
              "    <tr>\n",
              "      <th>8</th>\n",
              "      <td>But it seemed to fit Cohn.</td>\n",
              "      <td>Book_1</td>\n",
              "    </tr>\n",
              "    <tr>\n",
              "      <th>9</th>\n",
              "      <td>He was really very fast.</td>\n",
              "      <td>Book_1</td>\n",
              "    </tr>\n",
              "  </tbody>\n",
              "</table>\n",
              "</div>"
            ],
            "text/plain": [
              "                                            sentence    book\n",
              "0  Robert Cohn was once middleweight boxing champ...  Book_1\n",
              "1  Do not think that I am very much impressed by ...  Book_1\n",
              "2  He cared nothing for boxing, in fact he dislik...  Book_1\n",
              "3  There was a certain inner comfort in knowing h...  Book_1\n",
              "4                              a thoroughly nice boy  Book_1\n",
              "5               , he never fought except in the gym.  Book_1\n",
              "6                  He was Spider Kelly's star pupil.  Book_1\n",
              "7  Spider Kelly taught all his young gentlemen to...  Book_1\n",
              "8                         But it seemed to fit Cohn.  Book_1\n",
              "9                           He was really very fast.  Book_1"
            ]
          },
          "metadata": {
            "tags": []
          },
          "execution_count": 47
        }
      ]
    },
    {
      "cell_type": "code",
      "metadata": {
        "id": "91tQdSEMWLvz",
        "colab_type": "code",
        "colab": {
          "base_uri": "https://localhost:8080/",
          "height": 34
        },
        "outputId": "bb61d156-32b4-48ff-b07a-7a42899bbdcd"
      },
      "source": [
        "len(sents_1)+len(sents_2)+len(sents_3)+len(sents_4)+len(sents_5)+len(sents_6)"
      ],
      "execution_count": 48,
      "outputs": [
        {
          "output_type": "execute_result",
          "data": {
            "text/plain": [
              "34195"
            ]
          },
          "metadata": {
            "tags": []
          },
          "execution_count": 48
        }
      ]
    },
    {
      "cell_type": "code",
      "metadata": {
        "id": "HpvEYFRvWWb4",
        "colab_type": "code",
        "colab": {
          "base_uri": "https://localhost:8080/",
          "height": 514
        },
        "outputId": "4f9bb492-f0c7-4a56-f1f5-ed0722e0428d"
      },
      "source": [
        "df_all['token'] = df_all['sentence'].apply(word_tokenize)\\\n",
        ".apply(lambda x: [item for item in x if item.isalpha()])\n",
        "\n",
        "# after remove stopwords and stemmer\n",
        "stop = stopwords.words('english')\n",
        "porter_stemmer = PorterStemmer()\n",
        "df_all['clean token'] = df_all['token'].apply(lambda x: [item for item in x if item not in stop_words])\\\n",
        ".apply(lambda x: [porter_stemmer.stem(item) for item in x])\n",
        "df_all.head(15)"
      ],
      "execution_count": 49,
      "outputs": [
        {
          "output_type": "execute_result",
          "data": {
            "text/html": [
              "<div>\n",
              "<style scoped>\n",
              "    .dataframe tbody tr th:only-of-type {\n",
              "        vertical-align: middle;\n",
              "    }\n",
              "\n",
              "    .dataframe tbody tr th {\n",
              "        vertical-align: top;\n",
              "    }\n",
              "\n",
              "    .dataframe thead th {\n",
              "        text-align: right;\n",
              "    }\n",
              "</style>\n",
              "<table border=\"1\" class=\"dataframe\">\n",
              "  <thead>\n",
              "    <tr style=\"text-align: right;\">\n",
              "      <th></th>\n",
              "      <th>sentence</th>\n",
              "      <th>book</th>\n",
              "      <th>token</th>\n",
              "      <th>clean token</th>\n",
              "    </tr>\n",
              "  </thead>\n",
              "  <tbody>\n",
              "    <tr>\n",
              "      <th>0</th>\n",
              "      <td>Robert Cohn was once middleweight boxing champ...</td>\n",
              "      <td>Book_1</td>\n",
              "      <td>[Robert, Cohn, was, once, middleweight, boxing...</td>\n",
              "      <td>[robert, cohn, middleweight, box, champion, pr...</td>\n",
              "    </tr>\n",
              "    <tr>\n",
              "      <th>1</th>\n",
              "      <td>Do not think that I am very much impressed by ...</td>\n",
              "      <td>Book_1</td>\n",
              "      <td>[Do, not, think, that, I, am, very, much, impr...</td>\n",
              "      <td>[Do, think, I, much, impress, box, titl, meant...</td>\n",
              "    </tr>\n",
              "    <tr>\n",
              "      <th>2</th>\n",
              "      <td>He cared nothing for boxing, in fact he dislik...</td>\n",
              "      <td>Book_1</td>\n",
              "      <td>[He, cared, nothing, for, boxing, in, fact, he...</td>\n",
              "      <td>[He, care, noth, box, fact, dislik, learn, pai...</td>\n",
              "    </tr>\n",
              "    <tr>\n",
              "      <th>3</th>\n",
              "      <td>There was a certain inner comfort in knowing h...</td>\n",
              "      <td>Book_1</td>\n",
              "      <td>[There, was, a, certain, inner, comfort, in, k...</td>\n",
              "      <td>[there, certain, inner, comfort, know, could, ...</td>\n",
              "    </tr>\n",
              "    <tr>\n",
              "      <th>4</th>\n",
              "      <td>a thoroughly nice boy</td>\n",
              "      <td>Book_1</td>\n",
              "      <td>[a, thoroughly, nice, boy]</td>\n",
              "      <td>[thoroughli, nice, boy]</td>\n",
              "    </tr>\n",
              "    <tr>\n",
              "      <th>5</th>\n",
              "      <td>, he never fought except in the gym.</td>\n",
              "      <td>Book_1</td>\n",
              "      <td>[he, never, fought, except, in, the, gym]</td>\n",
              "      <td>[never, fought, except, gym]</td>\n",
              "    </tr>\n",
              "    <tr>\n",
              "      <th>6</th>\n",
              "      <td>He was Spider Kelly's star pupil.</td>\n",
              "      <td>Book_1</td>\n",
              "      <td>[He, was, Spider, Kelly, star, pupil]</td>\n",
              "      <td>[He, spider, kelli, star, pupil]</td>\n",
              "    </tr>\n",
              "    <tr>\n",
              "      <th>7</th>\n",
              "      <td>Spider Kelly taught all his young gentlemen to...</td>\n",
              "      <td>Book_1</td>\n",
              "      <td>[Spider, Kelly, taught, all, his, young, gentl...</td>\n",
              "      <td>[spider, kelli, taught, young, gentlemen, box,...</td>\n",
              "    </tr>\n",
              "    <tr>\n",
              "      <th>8</th>\n",
              "      <td>But it seemed to fit Cohn.</td>\n",
              "      <td>Book_1</td>\n",
              "      <td>[But, it, seemed, to, fit, Cohn]</td>\n",
              "      <td>[but, seem, fit, cohn]</td>\n",
              "    </tr>\n",
              "    <tr>\n",
              "      <th>9</th>\n",
              "      <td>He was really very fast.</td>\n",
              "      <td>Book_1</td>\n",
              "      <td>[He, was, really, very, fast]</td>\n",
              "      <td>[He, realli, fast]</td>\n",
              "    </tr>\n",
              "    <tr>\n",
              "      <th>10</th>\n",
              "      <td>He was so good that Spider promptly overmatche...</td>\n",
              "      <td>Book_1</td>\n",
              "      <td>[He, was, so, good, that, Spider, promptly, ov...</td>\n",
              "      <td>[He, good, spider, promptli, overmatch, got, n...</td>\n",
              "    </tr>\n",
              "    <tr>\n",
              "      <th>11</th>\n",
              "      <td>This increased Cohn's distaste for boxing, but...</td>\n",
              "      <td>Book_1</td>\n",
              "      <td>[This, increased, Cohn, distaste, for, boxing,...</td>\n",
              "      <td>[thi, increas, cohn, distast, box, gave, certa...</td>\n",
              "    </tr>\n",
              "    <tr>\n",
              "      <th>12</th>\n",
              "      <td>In his last year at Princeton he read too much...</td>\n",
              "      <td>Book_1</td>\n",
              "      <td>[In, his, last, year, at, Princeton, he, read,...</td>\n",
              "      <td>[In, last, year, princeton, read, much, took, ...</td>\n",
              "    </tr>\n",
              "    <tr>\n",
              "      <th>13</th>\n",
              "      <td>I never met any one of his class who remembere...</td>\n",
              "      <td>Book_1</td>\n",
              "      <td>[I, never, met, any, one, of, his, class, who,...</td>\n",
              "      <td>[I, never, met, one, class, rememb]</td>\n",
              "    </tr>\n",
              "    <tr>\n",
              "      <th>14</th>\n",
              "      <td>They did not even remember that he was middlew...</td>\n",
              "      <td>Book_1</td>\n",
              "      <td>[They, did, not, even, remember, that, he, was...</td>\n",
              "      <td>[they, even, rememb, middleweight, box, champion]</td>\n",
              "    </tr>\n",
              "  </tbody>\n",
              "</table>\n",
              "</div>"
            ],
            "text/plain": [
              "                                             sentence  ...                                        clean token\n",
              "0   Robert Cohn was once middleweight boxing champ...  ...  [robert, cohn, middleweight, box, champion, pr...\n",
              "1   Do not think that I am very much impressed by ...  ...  [Do, think, I, much, impress, box, titl, meant...\n",
              "2   He cared nothing for boxing, in fact he dislik...  ...  [He, care, noth, box, fact, dislik, learn, pai...\n",
              "3   There was a certain inner comfort in knowing h...  ...  [there, certain, inner, comfort, know, could, ...\n",
              "4                               a thoroughly nice boy  ...                            [thoroughli, nice, boy]\n",
              "5                , he never fought except in the gym.  ...                       [never, fought, except, gym]\n",
              "6                   He was Spider Kelly's star pupil.  ...                   [He, spider, kelli, star, pupil]\n",
              "7   Spider Kelly taught all his young gentlemen to...  ...  [spider, kelli, taught, young, gentlemen, box,...\n",
              "8                          But it seemed to fit Cohn.  ...                             [but, seem, fit, cohn]\n",
              "9                            He was really very fast.  ...                                 [He, realli, fast]\n",
              "10  He was so good that Spider promptly overmatche...  ...  [He, good, spider, promptli, overmatch, got, n...\n",
              "11  This increased Cohn's distaste for boxing, but...  ...  [thi, increas, cohn, distast, box, gave, certa...\n",
              "12  In his last year at Princeton he read too much...  ...  [In, last, year, princeton, read, much, took, ...\n",
              "13  I never met any one of his class who remembere...  ...                [I, never, met, one, class, rememb]\n",
              "14  They did not even remember that he was middlew...  ...  [they, even, rememb, middleweight, box, champion]\n",
              "\n",
              "[15 rows x 4 columns]"
            ]
          },
          "metadata": {
            "tags": []
          },
          "execution_count": 49
        }
      ]
    },
    {
      "cell_type": "markdown",
      "metadata": {
        "id": "s7pT7A2lWYg7",
        "colab_type": "text"
      },
      "source": [
        "##  Advanced Methods"
      ]
    },
    {
      "cell_type": "code",
      "metadata": {
        "id": "-r6zlcfRWaIy",
        "colab_type": "code",
        "colab": {
          "base_uri": "https://localhost:8080/",
          "height": 34
        },
        "outputId": "de9b14dc-4c7d-43ac-8467-c1e4b59e3063"
      },
      "source": [
        "# The default regexp select tokens of 2 or more alphanumeric characters \n",
        "# And punctuation is completely ignored and always treated as a token separator\n",
        "# Use unigrams \n",
        "count_vect = CountVectorizer(stop_words='english')\n",
        "X_counts = count_vect.fit_transform(df_all.sentence)\n",
        "tfidf_transformer = TfidfTransformer()\n",
        "X_tfidf = tfidf_transformer.fit_transform(X_counts)\n",
        "print(X_tfidf.shape)"
      ],
      "execution_count": 50,
      "outputs": [
        {
          "output_type": "stream",
          "text": [
            "(34195, 11934)\n"
          ],
          "name": "stdout"
        }
      ]
    },
    {
      "cell_type": "code",
      "metadata": {
        "id": "XRY82kx6WcuC",
        "colab_type": "code",
        "colab": {
          "base_uri": "https://localhost:8080/",
          "height": 34
        },
        "outputId": "d671d384-fd16-4ec1-ed08-ff8f2bf8bda7"
      },
      "source": [
        "# for reproducibility\n",
        "random_state = 666\n",
        "cls = MiniBatchKMeans(n_clusters=6, random_state=random_state)\n",
        "cls.fit(X_tfidf)\n",
        "cls.predict(X_tfidf)"
      ],
      "execution_count": 51,
      "outputs": [
        {
          "output_type": "execute_result",
          "data": {
            "text/plain": [
              "array([0, 0, 0, ..., 0, 0, 0], dtype=int32)"
            ]
          },
          "metadata": {
            "tags": []
          },
          "execution_count": 51
        }
      ]
    },
    {
      "cell_type": "code",
      "metadata": {
        "id": "0GMNqfXsWgDq",
        "colab_type": "code",
        "colab": {}
      },
      "source": [
        "# reduce the features to 2D\n",
        "pca = PCA(n_components=2, random_state=random_state)\n",
        "reduced_features = pca.fit_transform(X_tfidf.toarray())\n",
        "\n",
        "# reduce the cluster centers to 2D\n",
        "reduced_cluster_centers = pca.transform(cls.cluster_centers_)"
      ],
      "execution_count": 52,
      "outputs": []
    },
    {
      "cell_type": "code",
      "metadata": {
        "id": "CK2Vc33oWh7o",
        "colab_type": "code",
        "colab": {
          "base_uri": "https://localhost:8080/",
          "height": 286
        },
        "outputId": "bb2b82c6-08e7-4e6c-d244-69ea354c086b"
      },
      "source": [
        "plt.scatter(reduced_features[:,0], reduced_features[:,1], c=cls.predict(X_tfidf))\n",
        "plt.scatter(reduced_cluster_centers[:, 0], reduced_cluster_centers[:,1], marker='x', s=150, c='b')"
      ],
      "execution_count": 53,
      "outputs": [
        {
          "output_type": "execute_result",
          "data": {
            "text/plain": [
              "<matplotlib.collections.PathCollection at 0x7fead2d2be10>"
            ]
          },
          "metadata": {
            "tags": []
          },
          "execution_count": 53
        },
        {
          "output_type": "display_data",
          "data": {
            "image/png": "[encoded data removed]",
            "text/plain": [
              "<Figure size 432x288 with 1 Axes>"
            ]
          },
          "metadata": {
            "tags": [],
            "needs_background": "light"
          }
        }
      ]
    },
    {
      "cell_type": "code",
      "metadata": {
        "id": "WJjgUmuNWkqn",
        "colab_type": "code",
        "colab": {
          "base_uri": "https://localhost:8080/",
          "height": 119
        },
        "outputId": "2e2555e8-af00-4584-e55d-8f2e93bb2a17"
      },
      "source": [
        "reduced_cluster_centers"
      ],
      "execution_count": 54,
      "outputs": [
        {
          "output_type": "execute_result",
          "data": {
            "text/plain": [
              "array([[-0.03588793, -0.0057341 ],\n",
              "       [ 0.33855839, -0.00561668],\n",
              "       [-0.0205604 , -0.02094174],\n",
              "       [-0.04850866, -0.0230083 ],\n",
              "       [-0.04470551,  0.04895492],\n",
              "       [-0.0465919 , -0.019342  ]])"
            ]
          },
          "metadata": {
            "tags": []
          },
          "execution_count": 54
        }
      ]
    },
    {
      "cell_type": "code",
      "metadata": {
        "id": "ebeYPpSnWnTI",
        "colab_type": "code",
        "colab": {
          "base_uri": "https://localhost:8080/",
          "height": 34
        },
        "outputId": "47320963-020f-45ee-cfb7-f6cfe9852d21"
      },
      "source": [
        "# Evalauation with labelled dataset\n",
        "homogeneity_score(df_all.book, cls.predict(X_tfidf))"
      ],
      "execution_count": 55,
      "outputs": [
        {
          "output_type": "execute_result",
          "data": {
            "text/plain": [
              "0.0033473586710322887"
            ]
          },
          "metadata": {
            "tags": []
          },
          "execution_count": 55
        }
      ]
    },
    {
      "cell_type": "code",
      "metadata": {
        "id": "Tj872u_EWpP-",
        "colab_type": "code",
        "colab": {
          "base_uri": "https://localhost:8080/",
          "height": 34
        },
        "outputId": "818ad390-bd78-4826-e657-f0b631219d2a"
      },
      "source": [
        "# The best value is 1 and the worst value is -1. \n",
        "# Values near 0 indicate overlapping clusters. \n",
        "silhouette_score(X_tfidf, labels=cls.predict(X_tfidf))"
      ],
      "execution_count": 56,
      "outputs": [
        {
          "output_type": "execute_result",
          "data": {
            "text/plain": [
              "0.05056422709560355"
            ]
          },
          "metadata": {
            "tags": []
          },
          "execution_count": 56
        }
      ]
    },
    {
      "cell_type": "code",
      "metadata": {
        "id": "ymFH5F-QhYD3",
        "colab_type": "code",
        "colab": {
          "base_uri": "https://localhost:8080/",
          "height": 187
        },
        "outputId": "70a12271-e4e7-408f-a826-581f7326eae3"
      },
      "source": [
        "words = count_vect.get_feature_names()\n",
        "# setup kmeans clustering\n",
        "kmeans = KMeans(n_clusters = 10, n_init = 20, n_jobs = -1, tol = 0.01, max_iter = 200)\n",
        "# fit the data \n",
        "kmeans.fit(X_tfidf)\n",
        "# this loop transforms the numbers back into words\n",
        "common_words = kmeans.cluster_centers_.argsort()[:,-1:-10:-1]\n",
        "for num, centroid in enumerate(common_words):\n",
        "    print(str(num) + ' : ' + ', '.join(words[word] for word in centroid))"
      ],
      "execution_count": 57,
      "outputs": [
        {
          "output_type": "stream",
          "text": [
            "0 : did, say, want, like, know, think, hear, look, come\n",
            "1 : asked, girl, brett, colonel, pop, mike, manuel, cohn, waitress\n",
            "2 : got, ve, said, car, haven, went, jack, good, ain\n",
            "3 : don, know, think, said, want, care, believe, worry, talk\n",
            "4 : man, old, said, good, fish, poor, looked, boy, head\n",
            "5 : like, said, don, just, look, looks, didn, hell, talk\n",
            "6 : colonel, said, good, told, thought, know, ll, don, thank\n",
            "7 : said, pop, brett, good, right, mike, ll, girl, come\n",
            "8 : yes, said, oh, colonel, sir, agreed, god, says, jack\n",
            "9 : good, know, right, ll, went, thought, came, come, looked\n"
          ],
          "name": "stdout"
        }
      ]
    },
    {
      "cell_type": "code",
      "metadata": {
        "id": "t_ut95gzWuk5",
        "colab_type": "code",
        "colab": {
          "base_uri": "https://localhost:8080/",
          "height": 860
        },
        "outputId": "211b243e-4108-4965-a638-25a825f15e60"
      },
      "source": [
        "#add the cluster label to the data frame\n",
        "df_all['cluster'] = kmeans.labels_\n",
        "clusters = df_all.groupby(['cluster', 'book']).size()\n",
        "fig, ax1 = plt.subplots(figsize = (26, 15))\n",
        "sns.heatmap(clusters.unstack(level = 'book'), ax = ax1, cmap = 'Reds')\n",
        "ax1.set_xlabel('book').set_size(18)\n",
        "ax1.set_ylabel('cluster').set_size(18)"
      ],
      "execution_count": 58,
      "outputs": [
        {
          "output_type": "display_data",
          "data": {
            "image/png": "[encoded data removed]",
            "text/plain": [
              "<Figure size 1872x1080 with 2 Axes>"
            ]
          },
          "metadata": {
            "tags": [],
            "needs_background": "light"
          }
        }
      ]
    }
  ]
}